{
 "cells": [
  {
   "cell_type": "code",
   "execution_count": 18,
   "id": "9943701b",
   "metadata": {},
   "outputs": [
    {
     "name": "stdout",
     "output_type": "stream",
     "text": [
      "Enter your nameArailym\n",
      "Enter your weight in pounds:114\n",
      "Enter your height in inches:63\n",
      "20.19198790627362\n",
      "Arailym, you are normal weight, well done!\n"
     ]
    }
   ],
   "source": [
    "name=input(\"Enter your name\")\n",
    "\n",
    "weight=int(input(\"Enter your weight in pounds:\"))\n",
    "\n",
    "height=int(input(\"Enter your height in inches:\"))\n",
    "\n",
    "BMI = (weight * 703) / (height * height)\n",
    "\n",
    "print(BMI)\n",
    "\n",
    "if BMI>0:\n",
    "    if(BMI<18.5):\n",
    "        print(name +\", you are underweight.\")\n",
    "    elif(BMI<=24.9):\n",
    "        print(name +\", you are normal weight, well done!\")\n",
    "    elif(BMI<29.9):\n",
    "        print(name +\", you are overweight.\")\n",
    "    elif(BMI<34.9):\n",
    "        print(name +\", you are obese.\")\n",
    "    elif(BMI<39.9):\n",
    "        print(name +\", you are severely obese.\")\n",
    "    else:\n",
    "        print(name +\", you are morbidly obese.\")\n",
    "else:\n",
    "    print(\"Enter valid input\")"
   ]
  },
  {
   "cell_type": "code",
   "execution_count": null,
   "id": "275e8b74",
   "metadata": {},
   "outputs": [],
   "source": []
  },
  {
   "cell_type": "markdown",
   "id": "d6dfcdf6",
   "metadata": {},
   "source": [
    "**Description: Body Mass Index (BMI) Calculator**\n",
    "\n",
    "This Python script initiates a Body Mass Index (BMI) calculation by prompting the user to input essential information.\n",
    "\n",
    "**User Interaction:**\n",
    "The script starts by requesting the user's name, weight (in pounds), and height (in inches) using the input() function.\n",
    "\n",
    "**BMI Calculation:**\n",
    "Utilizing the entered weight and height, the BMI is computed with the formula: BMI = (weight * 703) / (height * height).\n",
    "\n",
    "**Result Display:**\n",
    "The calculated BMI is then printed to the console using print(BMI).\n",
    "\n",
    "**Weight Classification:**\n",
    "To provide meaningful feedback, the script employs a series of if and elif statements to categorize the BMI into various weight classes.\n",
    "\n",
    "**User Feedback:**\n",
    "Depending on the calculated BMI, the script delivers a personalized message to the user regarding their weight status.\n",
    "\n",
    "**Input Validation:**\n",
    "\n",
    "A check is included to ensure that BMI is calculated only when the input values are valid (BMI > 0).\n",
    "\n",
    "**In summary**, this script serves as an interactive BMI calculator, taking user inputs, performing the BMI computation, and delivering tailored feedback on the user's weight status.\n"
   ]
  },
  {
   "cell_type": "code",
   "execution_count": null,
   "id": "ef09f9b2",
   "metadata": {},
   "outputs": [],
   "source": []
  },
  {
   "cell_type": "code",
   "execution_count": null,
   "id": "c11575e2",
   "metadata": {},
   "outputs": [],
   "source": []
  },
  {
   "cell_type": "code",
   "execution_count": null,
   "id": "7f56462b",
   "metadata": {},
   "outputs": [],
   "source": [
    "#BMI = (weight * 703) / (height * height)"
   ]
  },
  {
   "cell_type": "code",
   "execution_count": null,
   "id": "c6859153",
   "metadata": {},
   "outputs": [],
   "source": [
    "print(weight)"
   ]
  },
  {
   "cell_type": "code",
   "execution_count": null,
   "id": "46d1cdd7",
   "metadata": {},
   "outputs": [],
   "source": [
    "Under 18.5\tUnderweight\tMinimal\n",
    "18.5 - 24.9\tNormal Weight\tMinimal\n",
    "25 - 29.9\tOverweight\tIncreased\n",
    "30 - 34.9\tObese\tHigh\n",
    "35 - 39.9\tSeverely Obese\tVery High\n",
    "40 and over\tMorbidly Obese\tExtremely High"
   ]
  },
  {
   "cell_type": "code",
   "execution_count": 16,
   "id": "131213a4",
   "metadata": {},
   "outputs": [
    {
     "name": "stdout",
     "output_type": "stream",
     "text": [
      "Arailym, you are normal weight.\n"
     ]
    }
   ],
   "source": [
    "if BMI>0:\n",
    "    if(BMI<18.5):\n",
    "        print(name +\", you are underweight.\")\n",
    "    elif(BMI<=24.9):\n",
    "        print(name +\", you are normal weight.\")\n",
    "    elif(BMI<29.9):\n",
    "        print(name +\", you are overweight.\")\n",
    "    elif(BMI<34.9):\n",
    "        print(name +\", you are obese.\")\n",
    "    elif(BMI<39.9):\n",
    "        print(name +\", you are severely obese.\")\n",
    "    else:\n",
    "        print(name +\", you are morbidly obese.\")\n",
    "else:\n",
    "    print(\"Enter valid input\")"
   ]
  }
 ],
 "metadata": {
  "kernelspec": {
   "display_name": "Python 3 (ipykernel)",
   "language": "python",
   "name": "python3"
  },
  "language_info": {
   "codemirror_mode": {
    "name": "ipython",
    "version": 3
   },
   "file_extension": ".py",
   "mimetype": "text/x-python",
   "name": "python",
   "nbconvert_exporter": "python",
   "pygments_lexer": "ipython3",
   "version": "3.11.5"
  }
 },
 "nbformat": 4,
 "nbformat_minor": 5
}
